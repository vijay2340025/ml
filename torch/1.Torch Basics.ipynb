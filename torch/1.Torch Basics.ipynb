{
 "cells": [
  {
   "cell_type": "markdown",
   "id": "748ab95b",
   "metadata": {},
   "source": [
    "# ***Torch Basics***"
   ]
  },
  {
   "cell_type": "code",
   "execution_count": 1,
   "id": "a8f03677",
   "metadata": {},
   "outputs": [],
   "source": [
    "import torch\n",
    "import numpy as np"
   ]
  },
  {
   "cell_type": "markdown",
   "id": "7aad0381",
   "metadata": {},
   "source": [
    "### Creating Tensors"
   ]
  },
  {
   "cell_type": "markdown",
   "id": "d9a9db8d",
   "metadata": {},
   "source": [
    "Tensors can be created using the below methods.\n",
    "\n",
    "- ones\n",
    "- empty\n",
    "- rand\n",
    "- from numpy"
   ]
  },
  {
   "cell_type": "markdown",
   "id": "fd5d93fe",
   "metadata": {},
   "source": [
    "#### Using ones with 1d tensors:"
   ]
  },
  {
   "cell_type": "code",
   "execution_count": 2,
   "id": "2f321cad",
   "metadata": {},
   "outputs": [
    {
     "data": {
      "text/plain": [
       "tensor([1.])"
      ]
     },
     "execution_count": 2,
     "metadata": {},
     "output_type": "execute_result"
    }
   ],
   "source": [
    "torch.ones(1)"
   ]
  },
  {
   "cell_type": "markdown",
   "id": "0e2dc089",
   "metadata": {},
   "source": [
    "#### Using ones with 2d tensors:"
   ]
  },
  {
   "cell_type": "code",
   "execution_count": 3,
   "id": "0765039e",
   "metadata": {},
   "outputs": [
    {
     "data": {
      "text/plain": [
       "tensor([[1., 1., 1.],\n",
       "        [1., 1., 1.]])"
      ]
     },
     "execution_count": 3,
     "metadata": {},
     "output_type": "execute_result"
    }
   ],
   "source": [
    "torch.ones(2, 3)"
   ]
  },
  {
   "cell_type": "markdown",
   "id": "6daf990d",
   "metadata": {},
   "source": [
    "#### Using empty():"
   ]
  },
  {
   "cell_type": "code",
   "execution_count": 4,
   "id": "1a3dbee0",
   "metadata": {},
   "outputs": [
    {
     "data": {
      "text/plain": [
       "tensor([[1.0175e+16, 3.0917e-41],\n",
       "        [1.0237e+16, 3.0917e-41]])"
      ]
     },
     "execution_count": 4,
     "metadata": {},
     "output_type": "execute_result"
    }
   ],
   "source": [
    "torch.empty(2, 2)"
   ]
  },
  {
   "cell_type": "markdown",
   "id": "0e1b297b",
   "metadata": {},
   "source": [
    "#### Using rand():"
   ]
  },
  {
   "cell_type": "code",
   "execution_count": 5,
   "id": "ad4cd526",
   "metadata": {},
   "outputs": [
    {
     "data": {
      "text/plain": [
       "tensor([[0.5898, 0.4683],\n",
       "        [0.8112, 0.4522]])"
      ]
     },
     "execution_count": 5,
     "metadata": {},
     "output_type": "execute_result"
    }
   ],
   "source": [
    "torch.rand(2, 2)"
   ]
  },
  {
   "cell_type": "markdown",
   "id": "a4c522db",
   "metadata": {},
   "source": [
    "#### Using from_numpy()"
   ]
  },
  {
   "cell_type": "code",
   "execution_count": 6,
   "id": "ca8f4789",
   "metadata": {},
   "outputs": [
    {
     "data": {
      "text/plain": [
       "tensor([1, 2, 3])"
      ]
     },
     "execution_count": 6,
     "metadata": {},
     "output_type": "execute_result"
    }
   ],
   "source": [
    "arr = np.array([1,2,3])\n",
    "torch.from_numpy(arr)"
   ]
  },
  {
   "cell_type": "markdown",
   "id": "b8cc14df",
   "metadata": {},
   "source": [
    "## Autograd"
   ]
  },
  {
   "cell_type": "markdown",
   "id": "a80b83ab",
   "metadata": {},
   "source": [
    "To keep track of a variable and to create computational graph we need to use 'requires_grad' to be True"
   ]
  },
  {
   "cell_type": "code",
   "execution_count": 7,
   "id": "278ef205",
   "metadata": {},
   "outputs": [
    {
     "data": {
      "text/plain": [
       "tensor([1., 1., 1.], requires_grad=True)"
      ]
     },
     "execution_count": 7,
     "metadata": {},
     "output_type": "execute_result"
    }
   ],
   "source": [
    "x = torch.ones(3, requires_grad=True)\n",
    "x"
   ]
  },
  {
   "cell_type": "code",
   "execution_count": 8,
   "id": "4b9eec1a",
   "metadata": {},
   "outputs": [
    {
     "data": {
      "text/plain": [
       "tensor([3., 3., 3.], grad_fn=<AddBackward0>)"
      ]
     },
     "execution_count": 8,
     "metadata": {},
     "output_type": "execute_result"
    }
   ],
   "source": [
    "y = x + 2\n",
    "y"
   ]
  },
  {
   "cell_type": "markdown",
   "id": "4b76e3bc",
   "metadata": {},
   "source": [
    "##### *Note: \n",
    "- The grad_fn will be created for the calculation of y = x + 2. we use backward() to calculate the gradients of x later."
   ]
  },
  {
   "cell_type": "code",
   "execution_count": 9,
   "id": "35d3a2a7",
   "metadata": {},
   "outputs": [
    {
     "name": "stdout",
     "output_type": "stream",
     "text": [
      "x.grad = 1.0\n",
      "\n"
     ]
    }
   ],
   "source": [
    "y = y.mean()\n",
    "y.backward()\n",
    "print(f'x.grad = {x.grad.sum().item()}')\n",
    "x.grad.zero_()\n",
    "print()"
   ]
  },
  {
   "cell_type": "markdown",
   "id": "04b1895f",
   "metadata": {},
   "source": [
    "#### *Note: \n",
    "- The backward() calculates dy/dx and x.grad.sum() is required as it splits to 3 elements.\n",
    "- x.grad.zero_() is required to avoid accumulating the grads into x.grad"
   ]
  }
 ],
 "metadata": {
  "kernelspec": {
   "display_name": "Python 3 (ipykernel)",
   "language": "python",
   "name": "python3"
  },
  "language_info": {
   "codemirror_mode": {
    "name": "ipython",
    "version": 3
   },
   "file_extension": ".py",
   "mimetype": "text/x-python",
   "name": "python",
   "nbconvert_exporter": "python",
   "pygments_lexer": "ipython3",
   "version": "3.8.2"
  }
 },
 "nbformat": 4,
 "nbformat_minor": 5
}
